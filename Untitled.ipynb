{
 "cells": [
  {
   "cell_type": "code",
   "execution_count": null,
   "id": "47789c6b",
   "metadata": {},
   "outputs": [],
   "source": [
    "# %% [markdown]\n",
    "# ## Thresholding bright and dim cell\n",
    "\n",
    "# %%\n",
    "# Instantiate the napari viewer\n",
    "import napari\n",
    "from OpenIJTIFF import open_ij_tiff\n",
    "viewer = napari.Viewer()\n",
    "\n",
    "# %%\n",
    "# Read the intensity image\n",
    "image, axes, scales, units = open_ij_tiff('https://github.com/NEUBIAS/training-resources/raw/master/image_data/xy_8bit__nuclei_very_noisy.tif')\n",
    "\n",
    "# %%\n",
    "# View the intensity image\n",
    "viewer.add_image(image)\n",
    "\n",
    "# Check the intensity image's datatype\n",
    "print(image.dtype)\n",
    "\n",
    "# %% [markdown]\n",
    "# **Napari GUI** Inspect the intensity image values in order to identify a threshold that segments both cells \\\n",
    "# **Napari GUI** hover with mouse \\\n",
    "# **Napari GUI** make a line profile using the Napari plugin `napari-plot-profile`  (`pip install napari-plot-profile`)\n",
    "\n",
    "# %%\n",
    "# Threshold the image\n",
    "binary_image_two_cells = image > 49\n",
    "\n",
    "# %%\n",
    "# Overlay the binary image\n",
    "viewer.add_image(binary_image_two_cells, opacity=0.8)\n",
    "\n",
    "# Inspect data type\n",
    "print(binary_image_two_cells.dtype)\n",
    "\n",
    "# %%\n",
    "# Inspect value content\n",
    "import numpy as np\n",
    "print(np.unique(binary_image_two_cells))\n",
    "\n",
    "# %%\n",
    "# Apply a higher threshold\n",
    "# to only select the brighter cell\n",
    "binary_image_one_cell = image > 100\n",
    "viewer.add_image(binary_image_one_cell, opacity=0.8)"
   ]
  },
  {
   "cell_type": "code",
   "execution_count": null,
   "id": "006e8b0c",
   "metadata": {},
   "outputs": [],
   "source": []
  }
 ],
 "metadata": {
  "kernelspec": {
   "display_name": "Python 3 (ipykernel)",
   "language": "python",
   "name": "python3"
  },
  "language_info": {
   "codemirror_mode": {
    "name": "ipython",
    "version": 3
   },
   "file_extension": ".py",
   "mimetype": "text/x-python",
   "name": "python",
   "nbconvert_exporter": "python",
   "pygments_lexer": "ipython3",
   "version": "3.10.9"
  }
 },
 "nbformat": 4,
 "nbformat_minor": 5
}
