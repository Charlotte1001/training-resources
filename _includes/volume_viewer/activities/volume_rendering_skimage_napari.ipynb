{
 "cells": [
  {
   "cell_type": "code",
   "execution_count": 1,
   "id": "2964095d",
   "metadata": {},
   "outputs": [],
   "source": [
    "###\n",
    "# pip install napari-animation\n",
    "###\n",
    "\n",
    "# Read the image\n",
    "from skimage.io import imread\n",
    "# image = imread('https://github.com/NEUBIAS/training-resources/raw/master/image_data/xyzt_8bit__starfish_chromosomes.tif')\n",
    "# image = imread('https://github.com/NEUBIAS/training-resources/raw/master/image_data/xyzc_8bit__em_synapses_and_labels.tif')\n",
    "image = imread('https://github.com/NEUBIAS/training-resources/raw/master/image_data/xyz_8bit_calibrated__mri_full_head.tif')\n",
    "# image = imread('https://github.com/NEUBIAS/training-resources/raw/master/image_data/xyz_8bit_calibrated__organoid_nuclei.tif')\n",
    "# image = imread('https://github.com/NEUBIAS/training-resources/raw/master/image_data/xyz_8bit_calibrated__fib_sem_crop.tif')\n",
    "# image = imread('https://github.com/NEUBIAS/training-resources/raw/master/image_data/xyz_8bit_calibrated_labels__platy_tissues.tif')\n",
    "\n",
    "# Check image type and values\n",
    "import numpy as np\n",
    "print(image.dtype)\n",
    "print(np.min(image), np.max(image))\n",
    "print(image.shape)\n",
    "\n",
    "# Instantiate the napari viewer\n",
    "import napari\n",
    "viewer = napari.Viewer()\n",
    "\n",
    "# View the intensity image as grayscale\n",
    "viewer.add_image(image, name='image', colormap='gray')\n",
    "# Napari GUI: choose a colormap according to the data type\n",
    "\n",
    "# Napari GUI: change viewer from 2D to 3D, zoom in and out and rotate the volume\n",
    "# Note: these values are optimized for xyz_8bit_calibrated__mri_full_head.tif\n",
    "viewer.dims.ndisplay = 3\n",
    "viewer.camera.zoom = 2\n",
    "viewer.camera.angles = (0, -60, 90)\n",
    "\n",
    "# Napari GUI: use rendering (and attenuation) modes\n",
    "# Parameters can be changed for reproducibility\n",
    "viewer.layers['image'].rendering = 'attenuated_mip'\n",
    "viewer.layers['image'].attenuation = 1.\n",
    "\n",
    "# Take a screenshot of the scene created\n",
    "from napari.utils import nbscreenshot\n",
    "nbscreenshot(viewer)\n",
    "\n",
    "# Acquire the frame as numpy array and add it to the napari GUI\n",
    "screenshot = viewer.screenshot()\n",
    "viewer.add_image(screenshot, name='screenshot')\n",
    "viewer.dims.ndisplay = 2\n",
    "\n",
    "# Napari GUI: realize this is a 2D RGB image and can be saved as a PNG for presentations\n",
    "print(screenshot.dtype)\n",
    "print(np.min(screenshot), np.max(screenshot))\n",
    "print(screenshot.shape)\n",
    "\n",
    "# Napari GUI: use napari-animation to create an animation of the volume"
   ]
  }
 ],
 "metadata": {
  "kernelspec": {
   "display_name": "Python 3 (ipykernel)",
   "language": "python",
   "name": "python3"
  },
  "language_info": {
   "codemirror_mode": {
    "name": "ipython",
    "version": 3
   },
   "file_extension": ".py",
   "mimetype": "text/x-python",
   "name": "python",
   "nbconvert_exporter": "python",
   "pygments_lexer": "ipython3",
   "version": "3.9.15"
  }
 },
 "nbformat": 4,
 "nbformat_minor": 5
}
