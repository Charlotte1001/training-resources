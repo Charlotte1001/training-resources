{
 "cells": [
  {
   "cell_type": "code",
   "execution_count": null,
   "id": "71d4f36c",
   "metadata": {},
   "outputs": [],
   "source": [
    "#######################################################\n",
    "## To follow along you require additional packages.\n",
    "## Install them into your activated conda environment.\n",
    "## conda activate skimage-napari-tutorial\n",
    "## pip install napari-plot-profile\n",
    "## pip install matplotlib\n",
    "#######################################################"
   ]
  },
  {
   "cell_type": "code",
   "execution_count": null,
   "id": "0352bb1d",
   "metadata": {},
   "outputs": [],
   "source": [
    "from skimage.io import imread\n",
    "# Load the image.\n",
    "# You can also load a local image by providing the path to the file.\n",
    "image = imread(\"https://github.com/NEUBIAS/training-resources/raw/master/image_data/xy_8bit__nuclei_noisy_different_intensity.tif\")"
   ]
  },
  {
   "cell_type": "code",
   "execution_count": null,
   "id": "5e747180",
   "metadata": {},
   "outputs": [],
   "source": [
    "# Print image shape\n",
    "print(image.shape)"
   ]
  },
  {
   "cell_type": "code",
   "execution_count": null,
   "id": "b751afbc",
   "metadata": {},
   "outputs": [],
   "source": [
    "# Print the image pixel values.\n",
    "print(image)"
   ]
  },
  {
   "cell_type": "code",
   "execution_count": null,
   "id": "a3c06adb",
   "metadata": {},
   "outputs": [],
   "source": [
    "# Top left corner is [y, x] = [r, c] = [0, 0]\n",
    "print(image[0, 0])"
   ]
  },
  {
   "cell_type": "code",
   "execution_count": null,
   "id": "b5429a9e",
   "metadata": {},
   "outputs": [],
   "source": [
    "# [y, x] = [r, c] = [1, 0]\n",
    "print(image[1, 0])"
   ]
  },
  {
   "cell_type": "code",
   "execution_count": null,
   "id": "2749a876",
   "metadata": {},
   "outputs": [],
   "source": [
    "# [y, x] = [r, c] = [0, 2]\n",
    "print(image[0, 2])"
   ]
  },
  {
   "cell_type": "code",
   "execution_count": null,
   "id": "e415a4ec",
   "metadata": {},
   "outputs": [],
   "source": [
    "from napari.viewer import Viewer\n",
    "# Create a new napari viewer.\n",
    "napari_viewer = Viewer()"
   ]
  },
  {
   "cell_type": "code",
   "execution_count": null,
   "id": "3806411e",
   "metadata": {},
   "outputs": [],
   "source": [
    "# Add an image to the napari_viewer.\n",
    "napari_viewer.add_image(image)"
   ]
  },
  {
   "cell_type": "code",
   "execution_count": null,
   "id": "01c1341e",
   "metadata": {},
   "outputs": [],
   "source": [
    "import numpy as np\n",
    "# Compute min and max.\n",
    "print(image.min(), image.max())"
   ]
  },
  {
   "cell_type": "code",
   "execution_count": null,
   "id": "f64dfd9a",
   "metadata": {},
   "outputs": [],
   "source": [
    "import matplotlib.pyplot as plt\n",
    "# Use matplotlib to quickly plot a histogram.\n",
    "plt.hist(image.flatten(), bins=np.arange(image.min(), image.max() + 1));"
   ]
  }
 ],
 "metadata": {
  "kernelspec": {
   "display_name": "Python 3 (ipykernel)",
   "language": "python",
   "name": "python3"
  },
  "language_info": {
   "codemirror_mode": {
    "name": "ipython",
    "version": 3
   },
   "file_extension": ".py",
   "mimetype": "text/x-python",
   "name": "python",
   "nbconvert_exporter": "python",
   "pygments_lexer": "ipython3",
   "version": "3.9.15"
  }
 },
 "nbformat": 4,
 "nbformat_minor": 5
}
