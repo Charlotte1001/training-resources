{
 "cells": [
  {
   "cell_type": "code",
   "execution_count": 13,
   "id": "eafff89e",
   "metadata": {},
   "outputs": [
    {
     "name": "stderr",
     "output_type": "stream",
     "text": [
      "WARNING: DirectWrite: CreateFontFaceFromHDC() failed (Indicates an error in an input file such as a font file.) for QFontDef(Family=\"\", pointsize=12, pixelsize=16, styleHint=5, weight=50, stretch=100, hintingPreference=0) LOGFONT(\"MS Sans Serif\", lfWidth=0, lfHeight=-16) dpi=96\n"
     ]
    },
    {
     "name": "stdout",
     "output_type": "stream",
     "text": [
      "uint8 0 255\n",
      "['blue', 'bop blue', 'bop orange', 'bop purple', 'cyan', 'gist_earth', 'gray', 'gray_r', 'green', 'hsv', 'I Blue', 'I Bordeaux', 'I Forest', 'I Orange', 'I Purple', 'inferno', 'magenta', 'magma', 'PiYG', 'plasma', 'red', 'turbo', 'twilight', 'twilight_shifted', 'viridis', 'yellow']\n",
      "[[6 6 5 5 7]\n",
      " [5 5 5 5 5]\n",
      " [6 7 6 5 4]\n",
      " [8 7 5 7 7]\n",
      " [7 6 5 5 5]]\n",
      "[[6 6 5 5 7]\n",
      " [5 5 5 5 5]\n",
      " [6 7 6 5 4]\n",
      " [8 7 5 7 7]\n",
      " [7 6 5 5 5]]\n",
      "True\n"
     ]
    }
   ],
   "source": [
    "# Instantiate the napari viewer\n",
    "import napari\n",
    "viewer = napari.Viewer()\n",
    "\n",
    "# Read the image\n",
    "from skimage.io import imread\n",
    "image = imread('https://github.com/NEUBIAS/training-resources/raw/master/image_data/xy_8bit__nuclei_high_dynamic_range.tif')\n",
    "\n",
    "# Check image type and values\n",
    "import numpy as np\n",
    "print(image.dtype, np.min(image), np.max(image))\n",
    "\n",
    "# View the intensity image as grayscale\n",
    "viewer.add_image(image, name='image_grayscale', colormap='gray')\n",
    "\n",
    "# Change brightness and contrast\n",
    "viewer.layers['image_grayscale'].contrast_limits=(100, 175)\n",
    "# Napari GUI: explore different contrast limits\n",
    "\n",
    "# Check available colormap\n",
    "print(list(napari.utils.colormaps.AVAILABLE_COLORMAPS))\n",
    "# Change colormap\n",
    "viewer.add_image(image, name='image_turbo', colormap='turbo')\n",
    "# Napari GUI: visualize images in grid mode and explore the LUTs\n",
    "\n",
    "# Extract image data from the layers\n",
    "image_grayscale = viewer.layers['image_grayscale'].data\n",
    "image_turbo = viewer.layers['image_turbo'].data\n",
    "\n",
    "# Compare raw data\n",
    "print(image_grayscale[0:5,0:5])\n",
    "print(image_turbo[0:5,0:5])\n",
    "print((image_grayscale == image_turbo).all())"
   ]
  },
  {
   "cell_type": "code",
   "execution_count": null,
   "id": "e04a94b3",
   "metadata": {},
   "outputs": [],
   "source": []
  }
 ],
 "metadata": {
  "kernelspec": {
   "display_name": "Python 3 (ipykernel)",
   "language": "python",
   "name": "python3"
  },
  "language_info": {
   "codemirror_mode": {
    "name": "ipython",
    "version": 3
   },
   "file_extension": ".py",
   "mimetype": "text/x-python",
   "name": "python",
   "nbconvert_exporter": "python",
   "pygments_lexer": "ipython3",
   "version": "3.9.15"
  }
 },
 "nbformat": 4,
 "nbformat_minor": 5
}
