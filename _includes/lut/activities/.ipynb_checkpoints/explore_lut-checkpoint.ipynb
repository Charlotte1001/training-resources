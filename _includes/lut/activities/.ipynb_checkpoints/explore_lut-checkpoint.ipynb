{
 "cells": [
  {
   "cell_type": "code",
   "execution_count": 1,
   "id": "894a64e8",
   "metadata": {},
   "outputs": [
    {
     "name": "stderr",
     "output_type": "stream",
     "text": [
      "WARNING: DirectWrite: CreateFontFaceFromHDC() failed (Indicates an error in an input file such as a font file.) for QFontDef(Family=\"\", pointsize=12, pixelsize=16, styleHint=5, weight=50, stretch=100, hintingPreference=0) LOGFONT(\"MS Sans Serif\", lfWidth=0, lfHeight=-16) dpi=96\n"
     ]
    }
   ],
   "source": [
    "# Instantiate the napari viewer\n",
    "import napari\n",
    "viewer = napari.Viewer()"
   ]
  },
  {
   "cell_type": "code",
   "execution_count": 2,
   "id": "900b6c2c",
   "metadata": {},
   "outputs": [],
   "source": [
    "# Read the image\n",
    "from skimage.io import imread\n",
    "image = imread('https://github.com/NEUBIAS/training-resources/raw/master/image_data/xy_calibrated_16bit__nuclear_protein_control.tif')"
   ]
  },
  {
   "cell_type": "code",
   "execution_count": 24,
   "id": "6a1c41d7",
   "metadata": {},
   "outputs": [
    {
     "name": "stdout",
     "output_type": "stream",
     "text": [
      "uint16 8 3804\n"
     ]
    }
   ],
   "source": [
    "# Check image type and values\n",
    "import numpy as np\n",
    "print(image.dtype, np.min(image), np.max(image))"
   ]
  },
  {
   "cell_type": "code",
   "execution_count": 3,
   "id": "6b8e4634",
   "metadata": {},
   "outputs": [
    {
     "data": {
      "text/plain": [
       "<Image layer 'image_grayscale' at 0x1d9ba0d1940>"
      ]
     },
     "execution_count": 3,
     "metadata": {},
     "output_type": "execute_result"
    }
   ],
   "source": [
    "# View the intensity image as grayscale\n",
    "viewer.add_image(image, name='image_grayscale', colormap='gray')"
   ]
  },
  {
   "cell_type": "code",
   "execution_count": 4,
   "id": "8245c271",
   "metadata": {},
   "outputs": [
    {
     "data": {
      "text/plain": [
       "<Image layer 'image_cyan' at 0x1d9c1f940a0>"
      ]
     },
     "execution_count": 4,
     "metadata": {},
     "output_type": "execute_result"
    }
   ],
   "source": [
    "# Change brightness and contrast\n",
    "viewer.layers['image_grayscale'].contrast_limits=(100, 175)"
   ]
  },
  {
   "cell_type": "code",
   "execution_count": 11,
   "id": "ff451d9f",
   "metadata": {},
   "outputs": [],
   "source": [
    "# chaneg colormap\n",
    "print(list(napari.utils.colormaps.AVAILABLE_COLORMAPS))\n",
    "viewer.add_image(image, name='image_cyan', colormap='cyan')"
   ]
  },
  {
   "cell_type": "code",
   "execution_count": 16,
   "id": "9813d859",
   "metadata": {},
   "outputs": [],
   "source": [
    "# Extract image data from the layers\n",
    "image_grayscale = viewer.layers['image_grayscale']\n",
    "image_cyan = viewer.layers['image_cyan']"
   ]
  },
  {
   "cell_type": "code",
   "execution_count": 22,
   "id": "69aff0e6",
   "metadata": {},
   "outputs": [
    {
     "name": "stdout",
     "output_type": "stream",
     "text": [
      "True\n",
      "[[93 95 96 95 90]\n",
      " [92 91 91 89 86]\n",
      " [90 88 87 86 85]\n",
      " [88 87 86 85 85]\n",
      " [86 85 85 85 85]]\n",
      "[[93 95 96 95 90]\n",
      " [92 91 91 89 86]\n",
      " [90 88 87 86 85]\n",
      " [88 87 86 85 85]\n",
      " [86 85 85 85 85]]\n"
     ]
    }
   ],
   "source": [
    "# Compare raw data\n",
    "print(image_grayscale.data[:5,:5])\n",
    "print(image_cyan.data[:5,:5])\n",
    "print((image_grayscale.data == image_cyan.data).all())"
   ]
  },
  {
   "cell_type": "code",
   "execution_count": null,
   "id": "8d23d780",
   "metadata": {},
   "outputs": [],
   "source": []
  }
 ],
 "metadata": {
  "kernelspec": {
   "display_name": "Python 3 (ipykernel)",
   "language": "python",
   "name": "python3"
  },
  "language_info": {
   "codemirror_mode": {
    "name": "ipython",
    "version": 3
   },
   "file_extension": ".py",
   "mimetype": "text/x-python",
   "name": "python",
   "nbconvert_exporter": "python",
   "pygments_lexer": "ipython3",
   "version": "3.9.15"
  }
 },
 "nbformat": 4,
 "nbformat_minor": 5
}
