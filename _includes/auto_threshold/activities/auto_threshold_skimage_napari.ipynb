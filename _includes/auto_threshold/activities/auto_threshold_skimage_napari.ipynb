{
 "cells": [
  {
   "cell_type": "code",
   "execution_count": 2,
   "id": "59973c93",
   "metadata": {},
   "outputs": [],
   "source": [
    "import numpy as np\n",
    "from skimage.io import imread\n",
    "import napari\n",
    "\n",
    "# Read the images\n",
    "image1 = imread('https://github.com/NEUBIAS/training-resources/raw/master/image_data/xy_8bit__nuclei_without_offset.tif')\n",
    "image2 = imread('https://github.com/NEUBIAS/training-resources/raw/master/image_data/xy_8bit__nuclei_with_offset.tif')\n",
    "\n",
    "# Inspect image data type and values\n",
    "print(image1.dtype, image1.shape, np.min(image1), np.max(image1))\n",
    "print(image2.dtype, image2.shape, np.min(image2), np.max(image2))\n",
    "\n",
    "# Visualize images using matplotlib\n",
    "import matplotlib.pyplot as plt\n",
    "fig, ax = plt.subplots(1,2)\n",
    "ax[0].imshow(image1)\n",
    "ax[1].imshow(image2)\n",
    "\n",
    "# Explore the histograms\n",
    "info_type = np.iinfo(image1.dtype)\n",
    "print('\\n', info_type)\n",
    "min_val = info_type.min\n",
    "max_val = info_type.max\n",
    "\n",
    "fig, ax = plt.subplots(2,1)\n",
    "h = ax[0].hist(image1.flatten(), bins=np.arange(max_val+1), log=True)\n",
    "h = ax[1].hist(image2.flatten(), bins=np.arange(max_val+1), log=True)\n",
    "\n",
    "# Try manual thresholding\n",
    "thr1 = 25\n",
    "thr2 = 75\n",
    "\n",
    "fig, ax = plt.subplots(2,2)\n",
    "ax[0,0].imshow(image1)\n",
    "ax[0,1].imshow(image2)\n",
    "ax[1,0].imshow(image1>thr1)\n",
    "ax[1,1].imshow(image2>thr2)\n",
    "\n",
    "# Explore the automatic thresholds available in skimage\n",
    "from skimage.filters import try_all_threshold\n",
    "fig, ax = try_all_threshold(image1, verbose=True)\n",
    "fig, ax = try_all_threshold(image2, verbose=False)\n",
    "\n",
    "# Obtain the thresholding values\n",
    "from skimage.filters import threshold_mean\n",
    "thr1 = threshold_mean(image1)\n",
    "print(thr1)\n",
    "thr2 = threshold_mean(image2)\n",
    "print(thr2)\n",
    "\n"
   ]
  }
 ],
 "metadata": {
  "kernelspec": {
   "display_name": "Python 3 (ipykernel)",
   "language": "python",
   "name": "python3"
  },
  "language_info": {
   "codemirror_mode": {
    "name": "ipython",
    "version": 3
   },
   "file_extension": ".py",
   "mimetype": "text/x-python",
   "name": "python",
   "nbconvert_exporter": "python",
   "pygments_lexer": "ipython3",
   "version": "3.9.15"
  }
 },
 "nbformat": 4,
 "nbformat_minor": 5
}
