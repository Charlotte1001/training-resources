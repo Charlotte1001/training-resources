{
 "cells": [
  {
   "cell_type": "code",
   "execution_count": 1,
   "id": "5f5a4c6e",
   "metadata": {},
   "outputs": [],
   "source": [
    "import numpy as np\n",
    "from skimage.io import imread\n",
    "import napari"
   ]
  },
  {
   "cell_type": "code",
   "execution_count": 2,
   "id": "a313c923",
   "metadata": {},
   "outputs": [],
   "source": [
    "from OpenIJTIFF import open_ij_tiff"
   ]
  },
  {
   "cell_type": "code",
   "execution_count": 3,
   "id": "9adfad90",
   "metadata": {},
   "outputs": [
    {
     "name": "stdout",
     "output_type": "stream",
     "text": [
      "Y scale is missing from the tiff file !!!!!\n",
      "Y scale was assigned '1' and y scale unit was assigned 'Pixel'\n",
      "X scale is missing from the tiff file !!!!!\n",
      "X scale was assigned '1' and x scale unit was assigned 'Pixel'\n",
      "Y scale is missing from the tiff file !!!!!\n",
      "Y scale was assigned '1' and y scale unit was assigned 'Pixel'\n",
      "X scale is missing from the tiff file !!!!!\n",
      "X scale was assigned '1' and x scale unit was assigned 'Pixel'\n"
     ]
    }
   ],
   "source": [
    "# Read the images\n",
    "image1, axes1, scales1, units1 = open_ij_tiff('https://github.com/NEUBIAS/training-resources/raw/master/image_data/xy_8bit__nuclei_without_offset.tif')\n",
    "image2, axes2, scales2, units2 = open_ij_tiff('https://github.com/NEUBIAS/training-resources/raw/master/image_data/xy_8bit__nuclei_with_offset.tif')\n"
   ]
  },
  {
   "cell_type": "code",
   "execution_count": null,
   "id": "ff28cb0e",
   "metadata": {},
   "outputs": [
    {
     "name": "stdout",
     "output_type": "stream",
     "text": [
      "uint8 (96, 97) 3 203\n",
      "uint8 (104, 116) 27 137\n"
     ]
    }
   ],
   "source": [
    "# Inspect image data type and values\n",
    "print(image1.dtype, image1.shape, np.min(image1), np.max(image1))\n",
    "print(image2.dtype, image2.shape, np.min(image2), np.max(image2))\n",
    "\n",
    "# Instantiate the napari viewer\n",
    "viewer = napari.Viewer()\n",
    "\n",
    "# Visualize images using matplotlib\n",
    "viewer.add_image(image1, name='image1')\n",
    "viewer.add_image(image2, name='image2')\n",
    "\n",
    "# Explore the histograms\n",
    "info_type = np.iinfo(image1.dtype)\n",
    "print('\\n', info_type)\n",
    "min_val = info_type.min\n",
    "max_val = info_type.max\n",
    "\n",
    "import matplotlib.pyplot as plt\n",
    "plt.hist(image1.flatten(), bins=np.arange(max_val+1), log=True);\n",
    "plt.hist(image2.flatten(), bins=np.arange(max_val+1), log=True);\n",
    "\n",
    "# Try manual thresholding\n",
    "thr1 = 25\n",
    "thr2 = 75\n",
    "\n",
    "manual1 = image1>thr1\n",
    "manual2 = image2>thr2\n",
    "\n",
    "viewer.add_labels(manual1, name='manual_threshold1')\n",
    "viewer.add_labels(manual2, name='manual_threshold2')\n",
    "# Identify possible problems with this solution\n",
    "\n",
    "# Explore auto-thresholding options on:\n",
    "# https://scikit-image.org/docs/stable/api/skimage.filters.html\n",
    "\n",
    "# Obtain the thresholding values\n",
    "from skimage.filters import threshold_mean\n",
    "\n",
    "thr1 = threshold_mean(image1)\n",
    "print(thr1)\n",
    "auto1 = image1>thr1\n",
    "\n",
    "thr2 = threshold_mean(image2)\n",
    "print(thr2)\n",
    "auto2 = image2>thr2\n",
    "\n",
    "# Visualize auto-thresholded images\n",
    "viewer.add_labels(auto1, name='mean_threshold1')\n",
    "viewer.add_labels(auto2, name='mean_threshold2')\n"
   ]
  },
  {
   "cell_type": "code",
   "execution_count": null,
   "id": "57f05890",
   "metadata": {},
   "outputs": [],
   "source": []
  }
 ],
 "metadata": {
  "kernelspec": {
   "display_name": "Python 3 (ipykernel)",
   "language": "python",
   "name": "python3"
  },
  "language_info": {
   "codemirror_mode": {
    "name": "ipython",
    "version": 3
   },
   "file_extension": ".py",
   "mimetype": "text/x-python",
   "name": "python",
   "nbconvert_exporter": "python",
   "pygments_lexer": "ipython3",
   "version": "3.10.9"
  }
 },
 "nbformat": 4,
 "nbformat_minor": 5
}
